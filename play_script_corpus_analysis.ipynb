{
 "cells": [
  {
   "cell_type": "markdown",
   "id": "9f4a7d4e-248f-4614-ab84-35eebbfb4bee",
   "metadata": {},
   "source": [
    "# Assignment 1 - NLTK and corpus functions"
   ]
  },
  {
   "cell_type": "markdown",
   "id": "02d281de-490b-42fb-841b-c63b8818f217",
   "metadata": {},
   "source": [
    "### Subcorpus for Play Script"
   ]
  },
  {
   "cell_type": "code",
   "execution_count": 63,
   "id": "9506c3e8-f0c4-49e6-ae33-662f532dc381",
   "metadata": {},
   "outputs": [],
   "source": [
    "import nltk\n",
    "from nltk.corpus import PlaintextCorpusReader"
   ]
  },
  {
   "cell_type": "code",
   "execution_count": 64,
   "id": "7072304e-5275-40d2-8c82-97a2dac47d61",
   "metadata": {},
   "outputs": [],
   "source": [
    "corpus_root = \"./data\"\n",
    "reviews = PlaintextCorpusReader(corpus_root, '.*')\n",
    "play_corpus = reviews.words('play.txt')"
   ]
  },
  {
   "cell_type": "code",
   "execution_count": 65,
   "id": "5c47c573-bf97-4b92-972e-2557d15915b2",
   "metadata": {},
   "outputs": [],
   "source": [
    "reviews = PlaintextCorpusReader(corpus_root, '.*')\n",
    "playWords = reviews.words('play.txt')"
   ]
  },
  {
   "cell_type": "markdown",
   "id": "274505b6-819f-4cde-9085-b44bd22ac49d",
   "metadata": {},
   "source": [
    "#### 1. The length"
   ]
  },
  {
   "cell_type": "code",
   "execution_count": 67,
   "id": "374a4323-66ed-4710-a2d4-c9bea55b8a12",
   "metadata": {},
   "outputs": [
    {
     "name": "stdout",
     "output_type": "stream",
     "text": [
      "The corpus length: 33264\n"
     ]
    }
   ],
   "source": [
    "play_corpus_length = len(playWords)\n",
    "print(\"The corpus length:\", play_corpus_length )"
   ]
  },
  {
   "cell_type": "markdown",
   "id": "eca43b0e-c96f-4726-93fe-82d704c294f8",
   "metadata": {},
   "source": [
    "#### 2. The lexical diversity"
   ]
  },
  {
   "cell_type": "code",
   "execution_count": 69,
   "id": "2056e22d-54af-41f6-a96b-4273921b62d2",
   "metadata": {},
   "outputs": [
    {
     "name": "stdout",
     "output_type": "stream",
     "text": [
      "The lexical diversity: 0.12785594035594036\n"
     ]
    }
   ],
   "source": [
    "def lexical_diversity(playWords):\n",
    "    return len(set(playWords)) / len(playWords)\n",
    "    \n",
    "print(\"The lexical diversity:\", lexical_diversity(playWords))"
   ]
  },
  {
   "cell_type": "markdown",
   "id": "f41c9be0-a9cb-45f0-aeaa-a404abbff7ea",
   "metadata": {},
   "source": [
    "#### 3. Top 10 most frequent words and their counts"
   ]
  },
  {
   "cell_type": "code",
   "execution_count": 71,
   "id": "a14ec93c-9cc5-4cff-9b24-47097c046b8a",
   "metadata": {},
   "outputs": [],
   "source": [
    "from nltk import FreqDist"
   ]
  },
  {
   "cell_type": "code",
   "execution_count": 72,
   "id": "238c7045-80a5-42e2-82a6-948ea6396fa8",
   "metadata": {},
   "outputs": [
    {
     "name": "stdout",
     "output_type": "stream",
     "text": [
      "10 most frequent words in play script:\n",
      "word: 'and', count: 720\n",
      "word: 'the', count: 686\n",
      "word: 'i', count: 646\n",
      "word: 'to', count: 539\n",
      "word: 'a', count: 453\n",
      "word: 'of', count: 385\n",
      "word: 'my', count: 355\n",
      "word: 'that', count: 353\n",
      "word: 'is', count: 348\n",
      "word: 'romeo', count: 327\n"
     ]
    }
   ],
   "source": [
    "filtered_words = [word.lower() for word in playWords if word.isalpha()]\n",
    "\n",
    "fdist_play = FreqDist(filtered_words)\n",
    "most_common_words = fdist_play.most_common(10)\n",
    "print(\"10 most frequent words in play script:\")\n",
    "for word, count in most_common_words:\n",
    "    print(f\"word: '{word}', count: {count}\")"
   ]
  },
  {
   "cell_type": "markdown",
   "id": "86ecf4f6-2c62-4c8d-9b66-75b3856bf2bc",
   "metadata": {},
   "source": [
    "#### 4. Words that are at least 10 characters long and their counts"
   ]
  },
  {
   "cell_type": "code",
   "execution_count": 93,
   "id": "e45a77c8-4b5f-490b-bf20-9cbeda628491",
   "metadata": {},
   "outputs": [
    {
     "name": "stdout",
     "output_type": "stream",
     "text": [
      "Words in the play script that are 10 or more characters long and their counts:\n",
      "servingman: 31\n",
      "apothecary: 10\n",
      "servingmen: 7\n",
      "banishment: 6\n",
      "churchyard: 6\n",
      "lamentable: 5\n",
      "slaughtered: 5\n",
      "gentlewoman: 4\n",
      "shakespeare: 3\n",
      "affections: 3\n",
      "oppression: 3\n",
      "inconstant: 3\n",
      "confession: 3\n",
      "philosophy: 3\n",
      "nightingale: 3\n",
      "unaccustomed: 3\n",
      "bridegroom: 3\n",
      "attendants: 2\n",
      "torchbearers: 2\n",
      "gentlewomen: 2\n",
      "households: 2\n",
      "underneath: 2\n",
      "maidenhead: 2\n",
      "disposition: 2\n",
      "misfortune: 2\n",
      "discourses: 2\n",
      "henceforth: 2\n",
      "flattering: 2\n",
      "counterfeit: 2\n",
      "circumstance: 2\n",
      "henceforward: 2\n",
      "everlasting: 2\n",
      "quarreling: 2\n",
      "immediately: 2\n",
      "lamentation: 2\n",
      "threatened: 2\n",
      "disobedient: 2\n",
      "prosperous: 2\n",
      "detestable: 2\n",
      "instruments: 2\n",
      "misadventure: 2\n",
      "shakespeares: 1\n",
      "characters: 1\n",
      "misadventured: 1\n",
      "overthrows: 1\n",
      "continuance: 1\n",
      "maidenheads: 1\n",
      "flourishes: 1\n",
      "rebellious: 1\n",
      "pernicious: 1\n",
      "mistempered: 1\n",
      "interchanging: 1\n",
      "augmenting: 1\n",
      "artificial: 1\n",
      "portentous: 1\n",
      "importuned: 1\n",
      "transgression: 1\n",
      "preserving: 1\n",
      "accustomed: 1\n",
      "unattainted: 1\n",
      "transparent: 1\n",
      "remembered: 1\n",
      "lammastide: 1\n",
      "earthquake: 1\n",
      "everything: 1\n",
      "hoodwinked: 1\n",
      "crowkeeper: 1\n",
      "deformities: 1\n",
      "forefinger: 1\n",
      "grasshoppers: 1\n",
      "coachmakers: 1\n",
      "sweetmeats: 1\n",
      "ambuscadoes: 1\n",
      "consequence: 1\n",
      "grindstone: 1\n",
      "mistresses: 1\n",
      "whispering: 1\n",
      "disparagement: 1\n",
      "unworthiest: 1\n",
      "prodigious: 1\n",
      "extremities: 1\n",
      "invocation: 1\n",
      "brightness: 1\n",
      "perfection: 1\n",
      "bescreened: 1\n",
      "considering: 1\n",
      "merchandise: 1\n",
      "compliment: 1\n",
      "faithfully: 1\n",
      "discoverèd: 1\n",
      "unsatisfied: 1\n",
      "satisfaction: 1\n",
      "substantial: 1\n",
      "throughout: 1\n",
      "schoolboys: 1\n",
      "repetition: 1\n",
      "forgetting: 1\n",
      "cherishing: 1\n",
      "misapplied: 1\n",
      "predominant: 1\n",
      "benedicite: 1\n",
      "distempered: 1\n",
      "intercession: 1\n",
      "courageous: 1\n",
      "compliments: 1\n",
      "proportion: 1\n",
      "phantasimes: 1\n",
      "salutation: 1\n",
      "constrains: 1\n",
      "exposition: 1\n",
      "singleness: 1\n",
      "confidence: 1\n",
      "gentlemanlike: 1\n",
      "topgallant: 1\n",
      "sententious: 1\n",
      "countervail: 1\n",
      "deliciousness: 1\n",
      "moderately: 1\n",
      "incorporate: 1\n",
      "companions: 1\n",
      "consortest: 1\n",
      "fiddlestick: 1\n",
      "grievances: 1\n",
      "appertaining: 1\n",
      "dishonorable: 1\n",
      "submission: 1\n",
      "ratcatcher: 1\n",
      "arithmetic: 1\n",
      "reputation: 1\n",
      "effeminate: 1\n",
      "respective: 1\n",
      "displeasure: 1\n",
      "entertained: 1\n",
      "proceeding: 1\n",
      "performing: 1\n",
      "maidenhoods: 1\n",
      "cockatrice: 1\n",
      "containing: 1\n",
      "dissemblers: 1\n",
      "fellowship: 1\n",
      "affliction: 1\n",
      "acquaintance: 1\n",
      "unthankfulness: 1\n",
      "simpleness: 1\n",
      "predicament: 1\n",
      "unreasonable: 1\n",
      "digressing: 1\n",
      "dismembered: 1\n",
      "misbehaved: 1\n",
      "carelessly: 1\n",
      "pomegranate: 1\n",
      "torchbearer: 1\n",
      "unpleasing: 1\n",
      "opportunity: 1\n",
      "counterfeits: 1\n",
      "proportioned: 1\n",
      "acknowledge: 1\n",
      "stratagems: 1\n",
      "displeased: 1\n",
      "immoderately: 1\n",
      "inundation: 1\n",
      "resolution: 1\n",
      "treacherous: 1\n",
      "experienced: 1\n",
      "arbitrating: 1\n",
      "commission: 1\n",
      "battlements: 1\n",
      "distilling: 1\n",
      "government: 1\n",
      "directions: 1\n",
      "unfurnished: 1\n",
      "headstrong: 1\n",
      "opposition: 1\n",
      "necessaries: 1\n",
      "behooveful: 1\n",
      "ministered: 1\n",
      "dishonored: 1\n",
      "healthsome: 1\n",
      "receptacle: 1\n",
      "distraught: 1\n",
      "forefathers: 1\n",
      "loggerhead: 1\n",
      "approaching: 1\n",
      "sweetheart: 1\n",
      "pennyworths: 1\n",
      "deflowerèd: 1\n",
      "pilgrimage: 1\n",
      "overthrown: 1\n",
      "distressèd: 1\n",
      "uncomfortable: 1\n",
      "confusions: 1\n",
      "melancholy: 1\n",
      "hereabouts: 1\n",
      "overwhelming: 1\n",
      "packthread: 1\n",
      "discharged: 1\n",
      "wretchedness: 1\n",
      "franciscan: 1\n",
      "suspecting: 1\n",
      "infectious: 1\n",
      "pestilence: 1\n",
      "brotherhood: 1\n",
      "neglecting: 1\n",
      "scattering: 1\n",
      "employment: 1\n",
      "inexorable: 1\n",
      "friendship: 1\n",
      "villainous: 1\n",
      "unhallowed: 1\n",
      "commination: 1\n",
      "triumphant: 1\n",
      "unsubstantial: 1\n",
      "chambermaids: 1\n",
      "inauspicious: 1\n",
      "engrossing: 1\n",
      "masterless: 1\n",
      "discolored: 1\n",
      "comfortable: 1\n",
      "contradict: 1\n",
      "sisterhood: 1\n",
      "restorative: 1\n",
      "ambiguities: 1\n",
      "yesternight: 1\n",
      "conveniently: 1\n",
      "miscarried: 1\n",
      "sacrificed: 1\n",
      "therewithal: 1\n",
      "sacrifices: 1\n"
     ]
    }
   ],
   "source": [
    "play_long_words = [word.lower() for word in playWords if word.isalpha() and len(word) >= 10]\n",
    "\n",
    "fdist_play_long_words = FreqDist(play_long_words)\n",
    "\n",
    "play_long_words_counts = fdist_play_long_words.most_common()\n",
    "\n",
    "print(\"Words in the play script that are 10 or more characters long and their counts:\")\n",
    "for word, frequency in play_long_words_counts:\n",
    "    print(f\"{word}: {frequency}\")"
   ]
  },
  {
   "cell_type": "markdown",
   "id": "481c056c-4f02-420d-ad65-f53e98ca7bd2",
   "metadata": {},
   "source": [
    "#### 5. The longest sentence (type the sentence and give the number of words)"
   ]
  },
  {
   "cell_type": "code",
   "execution_count": 76,
   "id": "161b7bf8-04d0-48c7-b4df-b20ed884f86b",
   "metadata": {},
   "outputs": [
    {
     "name": "stdout",
     "output_type": "stream",
     "text": [
      "Longest sentence:\n",
      "Or , if I live , is it not very like The horrible conceit of death and night , Together with the terror of the place — As in a vault , an ancient receptacle 40 Where for this many hundred years the bones Of all my buried ancestors are packed ; Where bloody Tybalt , yet but green in earth , Lies fest ’ ring in his shroud ; where , as they say , At some hours in the night spirits resort — 45 Alack , alack , is it not like that I , So early waking , what with loathsome smells , And shrieks like mandrakes torn out of the earth , That living mortals , hearing them , run mad — O , if I wake , shall I not be distraught , 50 Environèd with all these hideous fears , And madly play with my forefathers ’ joints , And pluck the mangled Tybalt from his shroud , And , in this rage , with some great kinsman ’ s bone , As with a club , dash out my desp ’ rate brains ?\n",
      "\n",
      "Number of words: 191\n"
     ]
    }
   ],
   "source": [
    "play_sentences = reviews.sents('play.txt')\n",
    "\n",
    "longest_len = max(len(s) for s in play_sentences)\n",
    "\n",
    "longest_play_sents = [s for s in play_sentences if len(s) == longest_len]\n",
    "\n",
    "\n",
    "if longest_play_sents:  \n",
    "    joined_longest_sents = ' '.join(longest_play_sents[0])\n",
    "\n",
    "\n",
    "print(f\"Longest sentence:\\n{joined_longest_sents}\")\n",
    "print()\n",
    "print(f\"Number of words: {len(longest_play_sents[0])}\")\n",
    "# the dashes are used for a pausing effect since it is a play script and does not indicate the end of a sentence\n",
    "## Therefore, making this the longest sentence"
   ]
  },
  {
   "cell_type": "code",
   "execution_count": 77,
   "id": "1c8b652f-66d4-4398-8d80-99a763ce2e35",
   "metadata": {},
   "outputs": [
    {
     "name": "stdout",
     "output_type": "stream",
     "text": [
      "Longest sentence:\n",
      "Or , if I live , is it not very like The horrible conceit of death and night , Together with the terror of the place — As in a vault , an ancient receptacle 40 Where for this many hundred years the bones Of all my buried ancestors are packed ; Where bloody Tybalt , yet but green in earth , Lies fest ’ ring in his shroud ; where , as they say , At some hours in the night spirits resort — 45 Alack , alack , is it not like that I , So early waking , what with loathsome smells , And shrieks like mandrakes torn out of the earth , That living mortals , hearing them , run mad — O , if I wake , shall I not be distraught , 50 Environèd with all these hideous fears , And madly play with my forefathers ’ joints , And pluck the mangled Tybalt from his shroud , And , in this rage , with some great kinsman ’ s bone , As with a club , dash out my desp ’ rate brains ?\n",
      "\n",
      "Number of words: 152\n"
     ]
    }
   ],
   "source": [
    "from nltk.tokenize import word_tokenize\n",
    "\n",
    "play_sentences = reviews.sents('play.txt')\n",
    "\n",
    "def count_words(sentence):\n",
    "    words = word_tokenize(' '.join(sentence))\n",
    "    words_only = [word for word in words if word.isalpha()]\n",
    "    return len(words_only)\n",
    "\n",
    "longest_len = max(count_words(s) for s in play_sentences)\n",
    "\n",
    "longest_play_sents = [s for s in play_sentences if count_words(s) == longest_len]\n",
    "\n",
    "if longest_play_sents:  \n",
    "    joined_longest_sents = ' '.join(longest_play_sents[0])\n",
    "\n",
    "print(f\"Longest sentence:\\n{joined_longest_sents}\")\n",
    "print()\n",
    "print(f\"Number of words: {count_words(longest_play_sents[0])}\")"
   ]
  },
  {
   "cell_type": "markdown",
   "id": "90303427-6b6e-4be3-99a5-62564c546e9f",
   "metadata": {},
   "source": [
    "#### 6. A stemmed version of the longest sentence"
   ]
  },
  {
   "cell_type": "code",
   "execution_count": 79,
   "id": "cc5fe383-786e-46a6-82e9-6aec63195047",
   "metadata": {},
   "outputs": [
    {
     "name": "stdout",
     "output_type": "stream",
     "text": [
      "Original longest sentence:\n",
      "Or , if I live , is it not very like The horrible conceit of death and night , Together with the terror of the place — As in a vault , an ancient receptacle 40 Where for this many hundred years the bones Of all my buried ancestors are packed ; Where bloody Tybalt , yet but green in earth , Lies fest ’ ring in his shroud ; where , as they say , At some hours in the night spirits resort — 45 Alack , alack , is it not like that I , So early waking , what with loathsome smells , And shrieks like mandrakes torn out of the earth , That living mortals , hearing them , run mad — O , if I wake , shall I not be distraught , 50 Environèd with all these hideous fears , And madly play with my forefathers ’ joints , And pluck the mangled Tybalt from his shroud , And , in this rage , with some great kinsman ’ s bone , As with a club , dash out my desp ’ rate brains ?\n",
      "\n",
      "Stemmed version of the longest sentence:\n",
      "or if i live is it not veri like the horribl conceit of death and night togeth with the terror of the place as in a vault an ancient receptacl where for thi mani hundr year the bone of all my buri ancestor are pack where bloodi tybalt yet but green in earth lie fest ring in hi shroud where as they say at some hour in the night spirit resort alack alack is it not like that i so earli wake what with loathsom smell and shriek like mandrak torn out of the earth that live mortal hear them run mad o if i wake shall i not be distraught environèd with all these hideou fear and madli play with my forefath joint and pluck the mangl tybalt from hi shroud and in thi rage with some great kinsman s bone as with a club dash out my desp rate brain\n"
     ]
    }
   ],
   "source": [
    "from nltk.stem import PorterStemmer\n",
    "\n",
    "stemmer = PorterStemmer()\n",
    "play_sentences = reviews.sents('play.txt')\n",
    "\n",
    "longest_len = max(count_words(s) for s in play_sentences)\n",
    "longest_play_sents = [s for s in play_sentences if count_words(s) == longest_len]\n",
    "\n",
    "\n",
    "if longest_play_sents:  \n",
    "    longest_sentence = longest_play_sents[0]\n",
    "   \n",
    "words_in_sentence = word_tokenize(' '.join(longest_sentence))\n",
    "words_only = [word for word in words_in_sentence if word.isalpha()]\n",
    "   \n",
    "stemmed_words = [stemmer.stem(word) for word in words_only]\n",
    "stemmed_sentence = ' '.join(stemmed_words)\n",
    "\n",
    "print(f\"Original longest sentence:\\n{' '.join(longest_sentence)}\\n\")\n",
    "print(f\"Stemmed version of the longest sentence:\\n{stemmed_sentence}\")\n"
   ]
  },
  {
   "cell_type": "markdown",
   "id": "dbb2a701-f75c-4abd-b467-5b63bb448268",
   "metadata": {},
   "source": [
    "#### 7. Overall (not for each subcorpus): A reflection (1 paragraph or so): \n",
    "What do the most frequent words, the longest words, and longest sentence tell you about each\n",
    "of the 3 genres? How do you interpret the lexical diversity?"
   ]
  },
  {
   "cell_type": "code",
   "execution_count": null,
   "id": "896f3fc5-acb4-4024-8eb5-27e2b234a666",
   "metadata": {},
   "outputs": [],
   "source": []
  }
 ],
 "metadata": {
  "kernelspec": {
   "display_name": "Python 3 (ipykernel)",
   "language": "python",
   "name": "python3"
  },
  "language_info": {
   "codemirror_mode": {
    "name": "ipython",
    "version": 3
   },
   "file_extension": ".py",
   "mimetype": "text/x-python",
   "name": "python",
   "nbconvert_exporter": "python",
   "pygments_lexer": "ipython3",
   "version": "3.12.4"
  }
 },
 "nbformat": 4,
 "nbformat_minor": 5
}
